{
 "cells": [
  {
   "cell_type": "code",
   "execution_count": 1,
   "metadata": {},
   "outputs": [
    {
     "ename": "ModuleNotFoundError",
     "evalue": "No module named 'statsmodels'",
     "output_type": "error",
     "traceback": [
      "\u001b[0;31m---------------------------------------------------------------------------\u001b[0m",
      "\u001b[0;31mModuleNotFoundError\u001b[0m                       Traceback (most recent call last)",
      "\u001b[1;32m/Users/ali/Desktop/finStat/dummy.ipynb Cell 1'\u001b[0m in \u001b[0;36m<cell line: 4>\u001b[0;34m()\u001b[0m\n\u001b[1;32m      <a href='vscode-notebook-cell:/Users/ali/Desktop/finStat/dummy.ipynb#ch0000000?line=1'>2</a>\u001b[0m \u001b[39mimport\u001b[39;00m \u001b[39mnumpy\u001b[39;00m \u001b[39mas\u001b[39;00m \u001b[39mnp\u001b[39;00m\n\u001b[1;32m      <a href='vscode-notebook-cell:/Users/ali/Desktop/finStat/dummy.ipynb#ch0000000?line=2'>3</a>\u001b[0m \u001b[39mimport\u001b[39;00m \u001b[39mmatplotlib\u001b[39;00m\u001b[39m.\u001b[39;00m\u001b[39mpyplot\u001b[39;00m \u001b[39mas\u001b[39;00m \u001b[39mplt\u001b[39;00m\n\u001b[0;32m----> <a href='vscode-notebook-cell:/Users/ali/Desktop/finStat/dummy.ipynb#ch0000000?line=3'>4</a>\u001b[0m \u001b[39mfrom\u001b[39;00m \u001b[39mstatsmodels\u001b[39;00m\u001b[39m.\u001b[39;00m\u001b[39mtsa\u001b[39;00m\u001b[39m.\u001b[39;00m\u001b[39marima\u001b[39;00m\u001b[39m.\u001b[39;00m\u001b[39mmodel\u001b[39;00m \u001b[39mimport\u001b[39;00m ARIMA\n\u001b[1;32m      <a href='vscode-notebook-cell:/Users/ali/Desktop/finStat/dummy.ipynb#ch0000000?line=4'>5</a>\u001b[0m \u001b[39mfrom\u001b[39;00m \u001b[39mstatsmodels\u001b[39;00m\u001b[39m.\u001b[39;00m\u001b[39mgraphics\u001b[39;00m\u001b[39m.\u001b[39;00m\u001b[39mtsaplots\u001b[39;00m \u001b[39mimport\u001b[39;00m plot_acf, plot_pacf\n\u001b[1;32m      <a href='vscode-notebook-cell:/Users/ali/Desktop/finStat/dummy.ipynb#ch0000000?line=6'>7</a>\u001b[0m \u001b[39m# Generate some example data\u001b[39;00m\n",
      "\u001b[0;31mModuleNotFoundError\u001b[0m: No module named 'statsmodels'"
     ]
    }
   ],
   "source": [
    "import pandas as pd\n",
    "import numpy as np\n",
    "import matplotlib.pyplot as plt\n",
    "from statsmodels.tsa.arima.model import ARIMA\n",
    "from statsmodels.graphics.tsaplots import plot_acf, plot_pacf\n",
    "\n",
    "# Generate some example data\n",
    "np.random.seed(42)\n",
    "data = pd.Series(np.random.randn(1000), index=pd.date_range('2020-01-01', periods=1000))\n",
    "\n",
    "# Plot the original time series\n",
    "plt.figure(figsize=(10, 6))\n",
    "plt.plot(data)\n",
    "plt.title('Original Time Series')\n",
    "plt.xlabel('Date')\n",
    "plt.ylabel('Value')\n",
    "plt.show()\n",
    "\n",
    "# Plot ACF and PACF to determine ARIMA parameters\n",
    "plot_acf(data, lags=30)\n",
    "plot_pacf(data, lags=30)\n",
    "plt.show()\n",
    "\n",
    "# Fit ARIMA model\n",
    "order = (2, 1, 1)  # Example order parameters (p, d, q)\n",
    "model = ARIMA(data, order=order)\n",
    "result = model.fit()\n",
    "\n",
    "# Print model summary\n",
    "print(result.summary())\n",
    "\n",
    "# Plot residuals\n",
    "plt.figure(figsize=(10, 4))\n",
    "plt.plot(result.resid)\n",
    "plt.title('Residuals')\n",
    "plt.xlabel('Date')\n",
    "plt.ylabel('Residual')\n",
    "plt.show()\n",
    "\n",
    "# Forecast future values\n",
    "forecast_steps = 30\n",
    "forecast = result.forecast(steps=forecast_steps)\n",
    "\n",
    "# Plot original data and forecast\n",
    "plt.figure(figsize=(10, 6))\n",
    "plt.plot(data, label='Original Data')\n",
    "plt.plot(forecast, label='Forecast')\n",
    "plt.title('Original Data and Forecast')\n",
    "plt.xlabel('Date')\n",
    "plt.ylabel('Value')\n",
    "plt.legend()\n",
    "plt.show()"
   ]
  },
  {
   "cell_type": "code",
   "execution_count": null,
   "metadata": {},
   "outputs": [],
   "source": []
  }
 ],
 "metadata": {
  "interpreter": {
   "hash": "7bc19e435d3fd0a100ee81ee927bbe5d65b140c05200a86ce93d64fba8888c7e"
  },
  "kernelspec": {
   "display_name": "Python 3.8.12 ('envVATTv')",
   "language": "python",
   "name": "python3"
  },
  "language_info": {
   "codemirror_mode": {
    "name": "ipython",
    "version": 3
   },
   "file_extension": ".py",
   "mimetype": "text/x-python",
   "name": "python",
   "nbconvert_exporter": "python",
   "pygments_lexer": "ipython3",
   "version": "3.8.12"
  },
  "orig_nbformat": 4
 },
 "nbformat": 4,
 "nbformat_minor": 2
}
